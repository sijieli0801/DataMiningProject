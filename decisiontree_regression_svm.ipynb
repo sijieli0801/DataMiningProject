{
 "cells": [
  {
   "cell_type": "markdown",
   "id": "fbbfd3ad",
   "metadata": {},
   "source": [
    "# MSCA 31008 HW6\n",
    "Sijie Li"
   ]
  },
  {
   "cell_type": "code",
   "execution_count": 76,
   "id": "b4ee731b",
   "metadata": {},
   "outputs": [],
   "source": [
    "import numpy as np\n",
    "import matplotlib.pyplot as plt\n",
    "import random\n",
    "import pandas as pd\n",
    "%matplotlib inline\n",
    "import seaborn as sns\n",
    "from sklearn.linear_model import LinearRegression\n",
    "from sklearn.metrics import r2_score\n",
    "from sklearn.linear_model import LogisticRegression\n",
    "from sklearn.model_selection import train_test_split\n",
    "from sklearn.preprocessing import MinMaxScaler\n",
    "from mlxtend.plotting import plot_decision_regions\n",
    "from sklearn import metrics\n",
    "from sklearn.pipeline import Pipeline \n",
    "from sklearn.preprocessing import StandardScaler \n",
    "from sklearn.svm import LinearSVC\n",
    "from sklearn.naive_bayes import CategoricalNB\n",
    "from sklearn.tree import DecisionTreeClassifier\n",
    "from sklearn.discriminant_analysis import LinearDiscriminantAnalysis, QuadraticDiscriminantAnalysis\n",
    "import statistics as st"
   ]
  },
  {
   "cell_type": "code",
   "execution_count": 3,
   "id": "e1a7ac8c",
   "metadata": {},
   "outputs": [],
   "source": [
    "import warnings\n",
    "warnings.filterwarnings(\"ignore\")"
   ]
  },
  {
   "cell_type": "code",
   "execution_count": 30,
   "id": "1722da26",
   "metadata": {
    "code_folding": [
     0
    ]
   },
   "outputs": [],
   "source": [
    "def make_confusion_matrix(cf,\n",
    "                          group_names=None,\n",
    "                          categories='auto',\n",
    "                          count=True,\n",
    "                          percent=True,\n",
    "                          cbar=True,\n",
    "                          xyticks=True,\n",
    "                          xyplotlabels=True,\n",
    "                          sum_stats=True,\n",
    "                          figsize=None,\n",
    "                          cmap='Blues',\n",
    "                          title=None):\n",
    "    '''\n",
    "    This function will make a pretty plot of an sklearn Confusion Matrix cm using a Seaborn heatmap visualization.\n",
    "    Arguments\n",
    "    ---------\n",
    "    cf:            confusion matrix to be passed in\n",
    "    group_names:   List of strings that represent the labels row by row to be shown in each square.\n",
    "    categories:    List of strings containing the categories to be displayed on the x,y axis. Default is 'auto'\n",
    "    count:         If True, show the raw number in the confusion matrix. Default is True.\n",
    "    normalize:     If True, show the proportions for each category. Default is True.\n",
    "    cbar:          If True, show the color bar. The cbar values are based off the values in the confusion matrix.\n",
    "                   Default is True.\n",
    "    xyticks:       If True, show x and y ticks. Default is True.\n",
    "    xyplotlabels:  If True, show 'True Label' and 'Predicted Label' on the figure. Default is True.\n",
    "    sum_stats:     If True, display summary statistics below the figure. Default is True.\n",
    "    figsize:       Tuple representing the figure size. Default will be the matplotlib rcParams value.\n",
    "    cmap:          Colormap of the values displayed from matplotlib.pyplot.cm. Default is 'Blues'\n",
    "                   See http://matplotlib.org/examples/color/colormaps_reference.html\n",
    "                   \n",
    "    title:         Title for the heatmap. Default is None.\n",
    "    '''\n",
    "\n",
    "\n",
    "    # CODE TO GENERATE TEXT INSIDE EACH SQUARE\n",
    "    blanks = ['' for i in range(cf.size)]\n",
    "\n",
    "    if group_names and len(group_names)==cf.size:\n",
    "        group_labels = [\"{}\\n\".format(value) for value in group_names]\n",
    "    else:\n",
    "        group_labels = blanks\n",
    "\n",
    "    if count:\n",
    "        group_counts = [\"{0:0.0f}\\n\".format(value) for value in cf.flatten()]\n",
    "    else:\n",
    "        group_counts = blanks\n",
    "\n",
    "    if percent:\n",
    "        group_percentages = [\"{0:.2%}\".format(value) for value in cf.flatten()/np.sum(cf)]\n",
    "    else:\n",
    "        group_percentages = blanks\n",
    "\n",
    "    box_labels = [f\"{v1}{v2}{v3}\".strip() for v1, v2, v3 in zip(group_labels,group_counts,group_percentages)]\n",
    "    box_labels = np.asarray(box_labels).reshape(cf.shape[0],cf.shape[1])\n",
    "\n",
    "\n",
    "    # CODE TO GENERATE SUMMARY STATISTICS & TEXT FOR SUMMARY STATS\n",
    "    if sum_stats:\n",
    "        #Accuracy is sum of diagonal divided by total observations\n",
    "        accuracy  = np.trace(cf) / float(np.sum(cf))\n",
    "\n",
    "        #if it is a binary confusion matrix, show some more stats\n",
    "        if len(cf)==2:\n",
    "            #Metrics for Binary Confusion Matrices\n",
    "            precision = cf[1,1] / sum(cf[:,1])\n",
    "            recall    = cf[1,1] / sum(cf[1,:])\n",
    "            f1_score  = 2*precision*recall / (precision + recall)\n",
    "            stats_text = \"\\n\\nAccuracy={:0.3f}\\nPrecision={:0.3f}\\nRecall={:0.3f}\\nF1 Score={:0.3f}\".format(\n",
    "                accuracy,precision,recall,f1_score)\n",
    "        else:\n",
    "            stats_text = \"\\n\\nAccuracy={:0.3f}\".format(accuracy)\n",
    "    else:\n",
    "        stats_text = \"\"\n",
    "\n",
    "\n",
    "    # SET FIGURE PARAMETERS ACCORDING TO OTHER ARGUMENTS\n",
    "    if figsize==None:\n",
    "        #Get default figure size if not set\n",
    "        figsize = plt.rcParams.get('figure.figsize')\n",
    "\n",
    "    if xyticks==False:\n",
    "        #Do not show categories if xyticks is False\n",
    "        categories=False\n",
    "\n",
    "\n",
    "    # MAKE THE HEATMAP VISUALIZATION\n",
    "    plt.figure(figsize=figsize)\n",
    "    sns.heatmap(cf,annot=box_labels,fmt=\"\",cmap=cmap,cbar=cbar,xticklabels=categories,yticklabels=categories)\n",
    "\n",
    "    if xyplotlabels:\n",
    "        plt.ylabel('True label')\n",
    "        plt.xlabel('Predicted label' + stats_text)\n",
    "    else:\n",
    "        plt.xlabel(stats_text)\n",
    "    \n",
    "    if title:\n",
    "        plt.title(title)"
   ]
  },
  {
   "cell_type": "markdown",
   "id": "97999e67",
   "metadata": {},
   "source": [
    "# Data Manipulation"
   ]
  },
  {
   "cell_type": "code",
   "execution_count": 5,
   "id": "6ba91966",
   "metadata": {},
   "outputs": [],
   "source": [
    "Ddata=pd.read_csv(r'C:\\Users\\Sijie Li\\OneDrive - The University of Chicago\\Documents\\MSCA\\Winter2021\\MsCA31008 DataMining\\diabetes_preprocessed_nodummies.csv')"
   ]
  },
  {
   "cell_type": "code",
   "execution_count": 6,
   "id": "305dcf9f",
   "metadata": {},
   "outputs": [],
   "source": [
    "Ddata['change'].replace(('Yes'), 1,inplace=True)\n",
    "Ddata['change'].replace(('No'), 0,inplace=True)\n",
    "\n",
    "Ddata['gender'].replace(('Male'), 1,inplace=True)\n",
    "Ddata['gender'].replace(('Female'), 0,inplace=True)\n",
    "Ddata['gender'].replace(('Unknown/Invalid'), 2,inplace=True)\n",
    "\n",
    "Ddata['diabetesMed'].replace(('Yes'), 1,inplace=True)\n",
    "Ddata['diabetesMed'].replace(('No'), 0,inplace=True)\n",
    "Ddata['readmitted'].replace(('YES', 'NO'), (1, 0), inplace=True)"
   ]
  },
  {
   "cell_type": "code",
   "execution_count": 7,
   "id": "d9549072",
   "metadata": {},
   "outputs": [],
   "source": [
    "Ddata['gender'] = Ddata['gender'].astype('int64')\n"
   ]
  },
  {
   "cell_type": "code",
   "execution_count": 8,
   "id": "44167dfc",
   "metadata": {},
   "outputs": [],
   "source": [
    "cat_cols=['race','admission_type_id','discharge_disposition_id','diag_1', 'max_glu_serum', 'A1Cresult', 'metformin', \n",
    "     'repaglinide', 'nateglinide', 'chlorpropamide', 'glimepiride',  'glipizide', 'glyburide', 'tolbutamide', \n",
    "     'pioglitazone', 'rosiglitazone', 'acarbose', 'miglitol', 'troglitazone', 'tolazamide', 'insulin', 'glyburide-metformin', \n",
    "     'glipizide-metformin','metformin-rosiglitazone']"
   ]
  },
  {
   "cell_type": "code",
   "execution_count": 9,
   "id": "1e52941f",
   "metadata": {},
   "outputs": [],
   "source": [
    "newdf_dummies = pd.get_dummies(Ddata[cat_cols], drop_first=True)\n"
   ]
  },
  {
   "cell_type": "code",
   "execution_count": 11,
   "id": "e017c240",
   "metadata": {},
   "outputs": [
    {
     "data": {
      "text/plain": [
       "['gender',\n",
       " 'age',\n",
       " 'time_in_hospital',\n",
       " 'num_lab_procedures',\n",
       " 'num_procedures',\n",
       " 'num_medications',\n",
       " 'number_outpatient',\n",
       " 'number_emergency',\n",
       " 'number_inpatient',\n",
       " 'number_diagnoses',\n",
       " 'change',\n",
       " 'diabetesMed',\n",
       " 'readmitted']"
      ]
     },
     "execution_count": 11,
     "metadata": {},
     "output_type": "execute_result"
    }
   ],
   "source": [
    "noncat_cols = [col for col in Ddata.columns if col not in cat_cols]\n",
    "noncat_cols"
   ]
  },
  {
   "cell_type": "code",
   "execution_count": 12,
   "id": "d52d2800",
   "metadata": {},
   "outputs": [],
   "source": [
    "Ddata2 = pd.concat([Ddata[noncat_cols], newdf_dummies], axis=1)\n"
   ]
  },
  {
   "cell_type": "code",
   "execution_count": 13,
   "id": "1bce826f",
   "metadata": {},
   "outputs": [
    {
     "data": {
      "text/plain": [
       "(71518, 74)"
      ]
     },
     "execution_count": 13,
     "metadata": {},
     "output_type": "execute_result"
    }
   ],
   "source": [
    "Ddata2.shape\n"
   ]
  },
  {
   "cell_type": "code",
   "execution_count": 14,
   "id": "d6c97f73",
   "metadata": {},
   "outputs": [],
   "source": [
    "Ddata2.drop(['readmitted'], axis=1, inplace=True)\n"
   ]
  },
  {
   "cell_type": "code",
   "execution_count": 15,
   "id": "475d816b",
   "metadata": {},
   "outputs": [],
   "source": [
    "X1 = Ddata2\n",
    "y1 = Ddata['readmitted']"
   ]
  },
  {
   "cell_type": "code",
   "execution_count": 16,
   "id": "884615fa",
   "metadata": {},
   "outputs": [
    {
     "data": {
      "text/plain": [
       "0    42985\n",
       "1    28533\n",
       "Name: readmitted, dtype: int64"
      ]
     },
     "execution_count": 16,
     "metadata": {},
     "output_type": "execute_result"
    }
   ],
   "source": [
    "y1.value_counts()\n"
   ]
  },
  {
   "cell_type": "code",
   "execution_count": 22,
   "id": "b00ae1dc",
   "metadata": {},
   "outputs": [
    {
     "name": "stdout",
     "output_type": "stream",
     "text": [
      "0    42985\n",
      "1    28533\n",
      "Name: readmitted, dtype: int64\n"
     ]
    },
    {
     "data": {
      "image/png": "[encoded data removed]",
      "text/plain": [
       "<Figure size 432x288 with 1 Axes>"
      ]
     },
     "metadata": {
      "needs_background": "light"
     },
     "output_type": "display_data"
    }
   ],
   "source": [
    "color_wheel = {1: \"#0392cf\", \n",
    "               2: \"#7bc043\"}\n",
    "colors = Ddata['readmitted'].map(lambda x: color_wheel.get(x + 1))\n",
    "print(Ddata.readmitted.value_counts())\n",
    "p=Ddata.readmitted.value_counts().plot(kind=\"bar\")"
   ]
  },
  {
   "cell_type": "markdown",
   "id": "92916cf2",
   "metadata": {},
   "source": [
    "The above graph shows that the data is biased towards datapoints not readmitted value as 0. The number of not readmitted is 1/3 more than re-admitted."
   ]
  },
  {
   "cell_type": "code",
   "execution_count": 23,
   "id": "d593dbde",
   "metadata": {},
   "outputs": [
    {
     "data": {
      "text/plain": [
       "((50062, 73), (21456, 73), (50062,), (21456,))"
      ]
     },
     "execution_count": 23,
     "metadata": {},
     "output_type": "execute_result"
    }
   ],
   "source": [
    "#Split data in 70:30\n",
    "X_train, X_test, y_train, y_test = train_test_split(X1, y1, test_size = 0.3, random_state = 10,stratify=y1)\n",
    "X_train.shape, X_test.shape, y_train.shape, y_test.shape"
   ]
  },
  {
   "cell_type": "code",
   "execution_count": 24,
   "id": "e16de875",
   "metadata": {},
   "outputs": [],
   "source": [
    "scaler = MinMaxScaler(feature_range = (0,1))\n",
    "\n",
    "scaler.fit(X_train)\n",
    "X_train = scaler.transform(X_train)\n",
    "X_test = scaler.transform(X_test)"
   ]
  },
  {
   "cell_type": "markdown",
   "id": "ac902e84",
   "metadata": {},
   "source": [
    "# Apply KNN Classifier"
   ]
  },
  {
   "cell_type": "code",
   "execution_count": 25,
   "id": "91af9106",
   "metadata": {},
   "outputs": [],
   "source": [
    "from sklearn.neighbors import KNeighborsClassifier\n",
    "\n",
    "test_scores = []\n",
    "train_scores = []\n",
    "\n",
    "for i in range(1,5):\n",
    "\n",
    "    knn = KNeighborsClassifier(i)\n",
    "    knn.fit(X_train,y_train)\n",
    "    \n",
    "    train_scores.append(knn.score(X_train,y_train))\n",
    "    test_scores.append(knn.score(X_test,y_test))"
   ]
  },
  {
   "cell_type": "code",
   "execution_count": 26,
   "id": "1354f3db",
   "metadata": {},
   "outputs": [
    {
     "name": "stdout",
     "output_type": "stream",
     "text": [
      "Max train score 99.99600495385722 % and k = [1]\n"
     ]
    }
   ],
   "source": [
    "max_train_score = max(train_scores)\n",
    "train_scores_ind = [i for i, v in enumerate(train_scores) if v == max_train_score]\n",
    "print('Max train score {} % and k = {}'.format(max_train_score*100,list(map(lambda x: x+1, train_scores_ind))))"
   ]
  },
  {
   "cell_type": "code",
   "execution_count": 27,
   "id": "7735646e",
   "metadata": {},
   "outputs": [
    {
     "name": "stdout",
     "output_type": "stream",
     "text": [
      "Max test score 57.96513795674869 % and k = [2]\n"
     ]
    }
   ],
   "source": [
    "max_test_score = max(test_scores)\n",
    "test_scores_ind = [i for i, v in enumerate(test_scores) if v == max_test_score]\n",
    "print('Max test score {} % and k = {}'.format(max_test_score*100,list(map(lambda x: x+1, test_scores_ind))))"
   ]
  },
  {
   "cell_type": "code",
   "execution_count": 29,
   "id": "fe4c0c48",
   "metadata": {},
   "outputs": [
    {
     "data": {
      "image/png": "[encoded data removed]",
      "text/plain": [
       "<Figure size 864x360 with 1 Axes>"
      ]
     },
     "metadata": {
      "needs_background": "light"
     },
     "output_type": "display_data"
    }
   ],
   "source": [
    "plt.figure(figsize=(12,5))\n",
    "p = sns.lineplot(range(1,5),train_scores,marker='*',label='Train Score')\n",
    "p = sns.lineplot(range(1,5),test_scores,marker='o',label='Test Score')"
   ]
  },
  {
   "cell_type": "markdown",
   "id": "9d439a1f",
   "metadata": {},
   "source": [
    "The best result is whwen k=2 for this dataset."
   ]
  },
  {
   "cell_type": "code",
   "execution_count": 33,
   "id": "6c756b1c",
   "metadata": {},
   "outputs": [
    {
     "data": {
      "text/plain": [
       "0.5796513795674869"
      ]
     },
     "execution_count": 33,
     "metadata": {},
     "output_type": "execute_result"
    }
   ],
   "source": [
    "#Setup a knn classifier with k neighbors\n",
    "knn = KNeighborsClassifier(2)\n",
    "\n",
    "knn.fit(X_train,y_train)\n",
    "knn.score(X_test,y_test)"
   ]
  },
  {
   "cell_type": "markdown",
   "id": "dead4870",
   "metadata": {},
   "source": [
    "## KNN Confusion Matrix"
   ]
  },
  {
   "cell_type": "code",
   "execution_count": 34,
   "id": "f2bc6343",
   "metadata": {},
   "outputs": [],
   "source": [
    "y_pred_knn = knn.predict(X_test)"
   ]
  },
  {
   "cell_type": "code",
   "execution_count": 54,
   "id": "beb50768",
   "metadata": {},
   "outputs": [],
   "source": [
    "knn_matrix = metrics.confusion_matrix(y_test, y_pred_knn)"
   ]
  },
  {
   "cell_type": "code",
   "execution_count": 55,
   "id": "95b09fda",
   "metadata": {},
   "outputs": [
    {
     "data": {
      "image/png": "[encoded data removed]",
      "text/plain": [
       "<Figure size 432x288 with 2 Axes>"
      ]
     },
     "metadata": {
      "needs_background": "light"
     },
     "output_type": "display_data"
    }
   ],
   "source": [
    "labels = ['True Neg','False Pos','False Neg','True Pos']\n",
    "categories = ['Not Readmitted', 'Readmitted']\n",
    "make_confusion_matrix(knn_matrix, \n",
    "                      group_names=labels,\n",
    "                      categories=categories, \n",
    "                      cmap='binary')"
   ]
  },
  {
   "cell_type": "markdown",
   "id": "dbfbbfe6",
   "metadata": {},
   "source": [
    "# Support Vector Machines"
   ]
  },
  {
   "cell_type": "code",
   "execution_count": 57,
   "id": "adb4b425",
   "metadata": {},
   "outputs": [
    {
     "data": {
      "text/plain": [
       "Pipeline(steps=[('scaler', StandardScaler()),\n",
       "                ('linear_svc', LinearSVC(C=1, loss='hinge'))])"
      ]
     },
     "execution_count": 57,
     "metadata": {},
     "output_type": "execute_result"
    }
   ],
   "source": [
    "svm_clf = Pipeline((        \n",
    "  (\"scaler\", StandardScaler()),        \n",
    "  (\"linear_svc\", LinearSVC(C=1, loss=\"hinge\")),    \n",
    "  ))\n",
    "svm_clf.fit(X_train, y_train)"
   ]
  },
  {
   "cell_type": "code",
   "execution_count": 58,
   "id": "3abcbe58",
   "metadata": {},
   "outputs": [
    {
     "data": {
      "text/plain": [
       "0.6184284116331096"
      ]
     },
     "execution_count": 58,
     "metadata": {},
     "output_type": "execute_result"
    }
   ],
   "source": [
    "svm_pred = svm_clf.predict(X_test)\n",
    "svm_clf.score(X_test, y_test)"
   ]
  },
  {
   "cell_type": "markdown",
   "id": "c9b5b3ad",
   "metadata": {},
   "source": [
    "## Confusion Matrix - SVM"
   ]
  },
  {
   "cell_type": "code",
   "execution_count": 59,
   "id": "9d97ba76",
   "metadata": {},
   "outputs": [],
   "source": [
    "svm_matrix = metrics.confusion_matrix(y_test, svm_pred)"
   ]
  },
  {
   "cell_type": "code",
   "execution_count": 60,
   "id": "f22f9ffd",
   "metadata": {},
   "outputs": [
    {
     "data": {
      "image/png": "[encoded data removed]",
      "text/plain": [
       "<Figure size 432x288 with 2 Axes>"
      ]
     },
     "metadata": {
      "needs_background": "light"
     },
     "output_type": "display_data"
    }
   ],
   "source": [
    "labels = ['True Neg','False Pos','False Neg','True Pos']\n",
    "categories = ['Not Readmitted', 'Readmitted']\n",
    "make_confusion_matrix(svm_matrix, \n",
    "                      group_names=labels,\n",
    "                      categories=categories, \n",
    "                      cmap='binary')"
   ]
  },
  {
   "cell_type": "markdown",
   "id": "8e249311",
   "metadata": {},
   "source": [
    "# Naïve Bayes"
   ]
  },
  {
   "cell_type": "code",
   "execution_count": 62,
   "id": "fbb6863e",
   "metadata": {},
   "outputs": [
    {
     "data": {
      "text/plain": [
       "CategoricalNB()"
      ]
     },
     "execution_count": 62,
     "metadata": {},
     "output_type": "execute_result"
    }
   ],
   "source": [
    "cnb = CategoricalNB()\n",
    "cnb.fit(X_train,y_train)"
   ]
  },
  {
   "cell_type": "code",
   "execution_count": 63,
   "id": "450d24e2",
   "metadata": {},
   "outputs": [
    {
     "data": {
      "text/plain": [
       "0.5928877703206562"
      ]
     },
     "execution_count": 63,
     "metadata": {},
     "output_type": "execute_result"
    }
   ],
   "source": [
    "cnb_pred = cnb.predict(X_test)\n",
    "cnb.score(X_test,y_test)"
   ]
  },
  {
   "cell_type": "markdown",
   "id": "1c4dda77",
   "metadata": {},
   "source": [
    "## Confusion Matrix"
   ]
  },
  {
   "cell_type": "code",
   "execution_count": 64,
   "id": "02e92dfe",
   "metadata": {},
   "outputs": [],
   "source": [
    "cnb_matrix = metrics.confusion_matrix(y_test, cnb_pred)"
   ]
  },
  {
   "cell_type": "code",
   "execution_count": 65,
   "id": "343a9cec",
   "metadata": {},
   "outputs": [
    {
     "data": {
      "image/png": "[encoded data removed]",
      "text/plain": [
       "<Figure size 432x288 with 2 Axes>"
      ]
     },
     "metadata": {
      "needs_background": "light"
     },
     "output_type": "display_data"
    }
   ],
   "source": [
    "labels = ['True Neg','False Pos','False Neg','True Pos']\n",
    "categories = ['Not Readmitted', 'Readmitted']\n",
    "make_confusion_matrix(cnb_matrix, \n",
    "                      group_names=labels,\n",
    "                      categories=categories, \n",
    "                      cmap='binary')"
   ]
  },
  {
   "cell_type": "markdown",
   "id": "ae829bde",
   "metadata": {},
   "source": [
    "# Summary on KNN, SVM and CNB Model"
   ]
  },
  {
   "cell_type": "markdown",
   "id": "64aa1ae0",
   "metadata": {},
   "source": [
    "By comparing the above three models on accuracy rate, although SVM has slightly higher accuracy rate at 61%, it is just a few % over the other two models. \n",
    "\n",
    "If we look at the true positive rate (the number of \"YES\" are truly predicted), KNN is sightly higher at 7.15% over all observations.\n",
    "\n",
    "All the models predicted well on True Negative (readmitted \"NO\"), which could cause by the imbalanced target variables.Therefore, I am taking KNN as an example and calculate the ROC score. It helps us to understand how good the model can distinguish between two things (e.g If the patient has readmitted or not ). Better models can accurately distinguish between the two. Whereas, a poor model will have difficulties in distinguishing between the two. "
   ]
  },
  {
   "cell_type": "code",
   "execution_count": 83,
   "id": "29e6756b",
   "metadata": {},
   "outputs": [
    {
     "data": {
      "text/plain": [
       "0.5329930874023098"
      ]
     },
     "execution_count": 83,
     "metadata": {},
     "output_type": "execute_result"
    }
   ],
   "source": [
    "from sklearn.metrics import roc_auc_score\n",
    "y_pred_knn_proba = knn.predict_proba(X_test)[:,1]\n",
    "roc_auc_score(y_test,y_pred_knn_proba)"
   ]
  },
  {
   "cell_type": "code",
   "execution_count": 84,
   "id": "a1e69f59",
   "metadata": {},
   "outputs": [
    {
     "data": {
      "image/png": "[encoded data removed]",
      "text/plain": [
       "<Figure size 432x288 with 1 Axes>"
      ]
     },
     "metadata": {
      "needs_background": "light"
     },
     "output_type": "display_data"
    }
   ],
   "source": [
    "fpr, tpr, threshold = metrics.roc_curve(y_test, y_pred_knn_proba)\n",
    "roc_auc = metrics.auc(fpr, tpr)\n",
    "\n",
    "plt.figure()\n",
    "plt.plot(fpr, tpr, label='KNN (area = %0.2f)' % roc_auc)\n",
    "plt.plot([0, 1], [0, 1],'r--')\n",
    "plt.xlim([0.0, 1.0])\n",
    "plt.ylim([0.0, 1.05])\n",
    "plt.xlabel('False Positive Rate')\n",
    "plt.ylabel('True Positive Rate')\n",
    "plt.title('KNN(n=2) ROC Curve')\n",
    "plt.legend(loc=\"lower right\")\n",
    "plt.savefig('Log_ROC')\n",
    "plt.show()"
   ]
  },
  {
   "cell_type": "markdown",
   "id": "dc3f9200",
   "metadata": {},
   "source": [
    "Classifiers that give curves closer to the top-left corner indicate a better performance. As a baseline, a random classifier is expected to give points lying along the diagonal (FPR = TPR). The curve is close to the diagonal line, which indicates the model is average to poor."
   ]
  },
  {
   "cell_type": "markdown",
   "id": "5f98c5b9",
   "metadata": {},
   "source": [
    "# \"Ensemble\" model"
   ]
  },
  {
   "cell_type": "code",
   "execution_count": null,
   "id": "215ae7cd",
   "metadata": {},
   "outputs": [],
   "source": [
    "logisitic, Classification Trees, LDA, QDA, KNN, SVM, and Naïve Bayes"
   ]
  },
  {
   "cell_type": "code",
   "execution_count": 74,
   "id": "1b4595bf",
   "metadata": {},
   "outputs": [],
   "source": [
    "dict_classifiers = {\n",
    "    \"Logistic Regression\": LogisticRegression(),\n",
    "    \"Nearest Neighbors\": KNeighborsClassifier(2),\n",
    "    \"Linear SVM\": Pipeline((        \n",
    "(\"scaler\", StandardScaler()),        \n",
    "  (\"linear_svc\", LinearSVC(C=1, loss=\"hinge\")),    \n",
    "  )),\n",
    "    \"Decision Tree\": DecisionTreeClassifier(),\n",
    "    \"Naive Bayes\": CategoricalNB(),\n",
    "    \"QDA\":QuadraticDiscriminantAnalysis(priors=None, \n",
    "               store_covariance=False, tol=0.0001),\n",
    "    \"LDA\":LinearDiscriminantAnalysis(n_components=None, priors=None, shrinkage=None,\n",
    "              solver='svd', store_covariance=False, tol=0.0001)\n",
    "}"
   ]
  },
  {
   "cell_type": "code",
   "execution_count": 77,
   "id": "4618e79c",
   "metadata": {},
   "outputs": [],
   "source": [
    "DecisionTree = DecisionTreeClassifier()\n",
    "KNN = KNeighborsClassifier(2)\n",
    "Logistic= LogisticRegression()\n",
    "SVM =Pipeline((        \n",
    "(\"scaler\", StandardScaler()),        \n",
    "  (\"linear_svc\", LinearSVC(C=1, loss=\"hinge\")),    \n",
    "  ))\n",
    "NaiveBayes = CategoricalNB()\n",
    "LDA = LinearDiscriminantAnalysis(n_components=None, priors=None, shrinkage=None,\n",
    "              solver='svd', store_covariance=False, tol=0.0001)\n",
    "QDA = QuadraticDiscriminantAnalysis(priors=None, \n",
    "               store_covariance=False, tol=0.0001)\n",
    "\n",
    "dt = DecisionTree.fit(X_train,y_train)\n",
    "knn = KNN.fit(X_train,y_train)\n",
    "lr = Logistic.fit(X_train,y_train)\n",
    "svm = SVM.fit(X_train,y_train)\n",
    "cnb = NaiveBayes.fit(X_train,y_train)\n",
    "lda = LDA.fit(X_train,y_train)\n",
    "qda = QDA.fit(X_train,y_train)\n",
    "\n",
    "pred_dt=dt.predict(X_test)\n",
    "pred_knn=knn.predict(X_test)\n",
    "pred_lr=lr.predict(X_test)\n",
    "pred_svm=svm.predict(X_test)\n",
    "pred_cnb=cnb.predict(X_test)\n",
    "pred_lda=lda.predict(X_test)\n",
    "pred_qda=qda.predict(X_test)\n",
    "\n",
    "final_pred = np.array([])\n",
    "for i in range(0,len(X_test)):\n",
    "    final_pred = np.append(final_pred, st.mode([pred_dt[i], pred_knn[i], pred_lr[i],pred_svm[i],\n",
    "                                             pred_cnb[i], pred_lda[i],pred_qda[i]]))"
   ]
  },
  {
   "cell_type": "code",
   "execution_count": 79,
   "id": "52f1f1cc",
   "metadata": {},
   "outputs": [
    {
     "data": {
      "text/plain": [
       "0.6216909023117076"
      ]
     },
     "execution_count": 79,
     "metadata": {},
     "output_type": "execute_result"
    }
   ],
   "source": [
    "from sklearn.ensemble import VotingClassifier\n",
    "model = VotingClassifier(estimators=[('dt', dt), ('knn', knn),('lr', lr), ('svm', svm),\n",
    "                                     ('cnb', cnb), ('lda', lda),('qda', qda)], voting='hard')\n",
    "model.fit(X_train,y_train)\n",
    "model.score(X_test,y_test)"
   ]
  },
  {
   "cell_type": "code",
   "execution_count": 80,
   "id": "d91d42b7",
   "metadata": {},
   "outputs": [],
   "source": [
    "model_pred = model.predict(X_test)"
   ]
  },
  {
   "cell_type": "markdown",
   "id": "ec262f89",
   "metadata": {},
   "source": [
    "## Confusion Matrix"
   ]
  },
  {
   "cell_type": "code",
   "execution_count": 81,
   "id": "e2eef0f6",
   "metadata": {},
   "outputs": [],
   "source": [
    "model_matrix = metrics.confusion_matrix(y_test, model_pred)"
   ]
  },
  {
   "cell_type": "code",
   "execution_count": 82,
   "id": "f7de3a93",
   "metadata": {},
   "outputs": [
    {
     "data": {
      "image/png": "[encoded data removed]",
      "text/plain": [
       "<Figure size 432x288 with 2 Axes>"
      ]
     },
     "metadata": {
      "needs_background": "light"
     },
     "output_type": "display_data"
    }
   ],
   "source": [
    "labels = ['True Neg','False Pos','False Neg','True Pos']\n",
    "categories = ['Not Readmitted', 'Readmitted']\n",
    "make_confusion_matrix(model_matrix, \n",
    "                      group_names=labels,\n",
    "                      categories=categories, \n",
    "                      cmap='binary')"
   ]
  },
  {
   "cell_type": "markdown",
   "id": "f731a1d5",
   "metadata": {},
   "source": [
    "## Summary\n",
    "\n",
    "Ensemble model did not yield a much better model accuracy or F1-score compared to the previous models. It might cause by the voting rule as the majarity true prediction won. The True negative is still the highest, and True positive has around 7% accuracy rate. \n",
    "\n",
    "To sum up, I do not think ensemble model is neccesary for this dataset as it yields similar prediction. Instead, we can probably try run indivisual model, that consists of the ensemble model and compare the performance metrics.\n"
   ]
  }
 ],
 "metadata": {
  "kernelspec": {
   "display_name": "Python 3",
   "language": "python",
   "name": "python3"
  },
  "language_info": {
   "codemirror_mode": {
    "name": "ipython",
    "version": 3
   },
   "file_extension": ".py",
   "mimetype": "text/x-python",
   "name": "python",
   "nbconvert_exporter": "python",
   "pygments_lexer": "ipython3",
   "version": "3.8.8"
  },
  "toc": {
   "base_numbering": 1,
   "nav_menu": {},
   "number_sections": true,
   "sideBar": true,
   "skip_h1_title": false,
   "title_cell": "Table of Contents",
   "title_sidebar": "Contents",
   "toc_cell": false,
   "toc_position": {},
   "toc_section_display": true,
   "toc_window_display": false
  }
 },
 "nbformat": 4,
 "nbformat_minor": 5
}
